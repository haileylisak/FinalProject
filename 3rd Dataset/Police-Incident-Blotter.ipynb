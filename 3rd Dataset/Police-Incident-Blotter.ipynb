{
 "cells": [
  {
   "cell_type": "code",
   "execution_count": 17,
   "metadata": {},
   "outputs": [],
   "source": [
    "import pandas as pd\n",
    "\n",
    "%matplotlib inline"
   ]
  },
  {
   "cell_type": "code",
   "execution_count": 19,
   "metadata": {},
   "outputs": [
    {
     "data": {
      "text/plain": [
       "Central Business District    133\n",
       "South Side Flats             103\n",
       "Carrick                       47\n",
       "Mount Washington              45\n",
       "Squirrel Hill South           43\n",
       "Name: INCIDENTNEIGHBORHOOD, dtype: int64"
      ]
     },
     "execution_count": 19,
     "metadata": {},
     "output_type": "execute_result"
    }
   ],
   "source": [
    "incidentData = pd.read_csv(\"Police-Incident-Blotter.csv\", index_col=\"_id\")\n",
    "incidentData['INCIDENTNEIGHBORHOOD'].value_counts().sort_values(ascending=False).head(5)\n"
   ]
  },
  {
   "cell_type": "markdown",
   "metadata": {},
   "source": [
    "Displayed here are the top 5 neighborhoods in Pittsburgh that had the most incidents that law enforcement was called to. "
   ]
  },
  {
   "cell_type": "code",
   "execution_count": 22,
   "metadata": {},
   "outputs": [
    {
     "data": {
      "text/plain": [
       "<matplotlib.axes._subplots.AxesSubplot at 0x7f7fc2fa52b0>"
      ]
     },
     "execution_count": 22,
     "metadata": {},
     "output_type": "execute_result"
    },
    {
     "data": {
      "image/png": "[encoded data removed]",
      "text/plain": [
       "<Figure size 432x288 with 1 Axes>"
      ]
     },
     "metadata": {
      "needs_background": "light"
     },
     "output_type": "display_data"
    }
   ],
   "source": [
    "top5 = incidentData['INCIDENTNEIGHBORHOOD'].value_counts().sort_values(ascending=False).head(5)\n",
    "top5.plot()"
   ]
  },
  {
   "cell_type": "markdown",
   "metadata": {},
   "source": [
    "I am going to focus on the top 3 neighborhoods since the x-axis is a little crowded."
   ]
  },
  {
   "cell_type": "code",
   "execution_count": 30,
   "metadata": {},
   "outputs": [
    {
     "data": {
      "text/plain": [
       "<matplotlib.axes._subplots.AxesSubplot at 0x7f7fc2201a90>"
      ]
     },
     "execution_count": 30,
     "metadata": {},
     "output_type": "execute_result"
    },
    {
     "data": {
      "image/png": "[encoded data removed]",
      "text/plain": [
       "<Figure size 432x288 with 1 Axes>"
      ]
     },
     "metadata": {
      "needs_background": "light"
     },
     "output_type": "display_data"
    }
   ],
   "source": [
    "top5.head(3).plot()"
   ]
  },
  {
   "cell_type": "markdown",
   "metadata": {},
   "source": [
    "On this plot, the x-axis tells us what neighborhod is. The y-axis is numbered and the corresponding number is how many incidents there were in that neighborhood. After analyzing this graph, the Central Business District has the most incidents, but it is not too far above the South Side Flats. There is only a 30 incident difference between the top 2 neighborhoods. "
   ]
  },
  {
   "cell_type": "code",
   "execution_count": 27,
   "metadata": {},
   "outputs": [
    {
     "name": "stdout",
     "output_type": "stream",
     "text": [
      "3921(a) Theft by Unlawful Taking or Disposition - Movable item\n",
      "9489 Found Property\n",
      "9504 Lost Property\n",
      "5104 Resisting Arrest or Other Law Enforcement. / 2709(a)(1) Harassment by Physical Contact, or Attempts or Threats\n",
      "9999 9999 - (Misc. Incident): \n",
      "9501 Bench Warrant / 3703 Driving Upon Sidewalk.\n",
      "9999 9999 - (Misc. Incident): Harassment\n",
      "3701 Robbery.\n",
      "5505 Public Drunkenness / 9998 Overdose Other\n",
      "9994 PFA Service\n"
     ]
    }
   ],
   "source": [
    "offenseCounter = 0\n",
    "for index, row in incidentData.iterrows():\n",
    "    if row[\"INCIDENTNEIGHBORHOOD\"] == \"Central Business District\":\n",
    "        print(row[\"OFFENSES\"])\n",
    "        offenseCounter = offenseCounter +1\n",
    "    if offenseCounter==10:\n",
    "        break"
   ]
  },
  {
   "cell_type": "markdown",
   "metadata": {},
   "source": [
    "Let's take a look at the 10 most recent incidents that police were called to in the Central Business District. I don't see a common theme beetween these incidents. I do find that resisting law enforcemet, robbery/theft, and public drunkenness are larger incidents that stand out to me most. "
   ]
  },
  {
   "cell_type": "code",
   "execution_count": 28,
   "metadata": {},
   "outputs": [
    {
     "name": "stdout",
     "output_type": "stream",
     "text": [
      "9489 Found Property\n",
      "3934 Theft from Vehicle / 3304 Criminal Mischief.\n",
      "3701 Robbery. / 2702 Aggravated Assault. / 3921(a) Theft by Unlawful Taking or Disposition - Movable item / 3928 Unauthorized Use of Automobile and Other Vehicles.\n",
      "3934 Theft from Vehicle / 7613(a) Computer Theft\n",
      "3745 Accidents Involving Damage to Unattended Veh.or Prop.\n",
      "3934 Theft from Vehicle\n",
      "3934 Theft from Vehicle\n",
      "13(a)(31) Marijuana: Possession Small Amount / 9501 Bench Warrant\n",
      "5505 Public Drunkenness / 5503 Disorderly Conduct. / 3503(b.1) Criminal Trespass - Simple Trespasser\n",
      "3934 Theft from Vehicle / 3304 Criminal Mischief.\n"
     ]
    }
   ],
   "source": [
    "offenseCounter = 0\n",
    "for index, row in incidentData.iterrows():\n",
    "    if row[\"INCIDENTNEIGHBORHOOD\"] == \"South Side Flats\":\n",
    "        print(row[\"OFFENSES\"])\n",
    "        offenseCounter = offenseCounter +1\n",
    "    if offenseCounter==10:\n",
    "        break"
   ]
  },
  {
   "cell_type": "markdown",
   "metadata": {},
   "source": [
    "These are the 10 most recent incidents that occured in the South Side Flats. A handful of the incidents seem to revolve around theft. "
   ]
  },
  {
   "cell_type": "code",
   "execution_count": 29,
   "metadata": {},
   "outputs": [
    {
     "name": "stdout",
     "output_type": "stream",
     "text": [
      "3743 Accidents Involving Damage to Attended Veh. or Property\n",
      "2709(a) Harassment. / 2709.A2 HARASSMENT - FOLLOW IN PUBLIC PLACE\n",
      "9489 Found Property\n",
      "4120 Identity Theft\n",
      "4303 General Lighting Requirements. / 1543 Driving While Operating Privilege is Suspended or Revoked. / 627.02(b)(i) Possessing a small amount of marijuana\n",
      "9496 Dead on Arrival (DOA)\n",
      "9498 302 (Mental)\n",
      "9496 Dead on Arrival (DOA)\n",
      "9093 Indirect Criminal Contempt\n",
      "2702 Aggravated Assault.\n"
     ]
    }
   ],
   "source": [
    "offenseCounter = 0\n",
    "for index, row in incidentData.iterrows():\n",
    "    if row[\"INCIDENTNEIGHBORHOOD\"] == \"Carrick\":\n",
    "        print(row[\"OFFENSES\"])\n",
    "        offenseCounter = offenseCounter +1\n",
    "    if offenseCounter==10:\n",
    "        break"
   ]
  },
  {
   "cell_type": "markdown",
   "metadata": {},
   "source": [
    "Finally, the 10 most recent incidents in Carrick.  The only recurring incident I see is \"Dead on Arrival.\" This incident does seem alarming, but not every single incident that police report to involve a serious crime. These deaths could have been natural and police were called for a wellness check. "
   ]
  },
  {
   "cell_type": "markdown",
   "metadata": {},
   "source": [
    "With all of this data in mind, once again, I would declare that the Central Business District is the best-worst neighborhood to live in in Pittsburgh based off of incidents requiring police. The Central Business District had the most incidents and, after analyzing the specific incidents that occured in the top 3 neighborhoods, I still found that the Central Business District was a concerning place to live. This neighborhood had variety of incidents. I found that the incidents were not small, they were quite concerning. Theft, resisting law enforcement, and public drunkenness are incidents that I would not want to be around every day. I would not want to be worried that my house could be robbed at any time, or have people under the influence disturbing my family. In conclusion, the Central Business District is not an ideal neighborhood to reside in after looking at the police incident blotter."
   ]
  },
  {
   "cell_type": "code",
   "execution_count": null,
   "metadata": {},
   "outputs": [],
   "source": []
  }
 ],
 "metadata": {
  "kernelspec": {
   "display_name": "Python 3",
   "language": "python",
   "name": "python3"
  },
  "language_info": {
   "codemirror_mode": {
    "name": "ipython",
    "version": 3
   },
   "file_extension": ".py",
   "mimetype": "text/x-python",
   "name": "python",
   "nbconvert_exporter": "python",
   "pygments_lexer": "ipython3",
   "version": "3.8.3"
  }
 },
 "nbformat": 4,
 "nbformat_minor": 4
}
