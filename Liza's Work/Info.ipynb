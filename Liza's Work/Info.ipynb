{
 "cells": [
  {
   "cell_type": "code",
   "execution_count": 1,
   "metadata": {},
   "outputs": [
    {
     "data": {
      "text/plain": [
       "Central Business District    4250\n",
       "South Side Flats             3382\n",
       "Carrick                      2300\n",
       "East Allegheny               2155\n",
       "Homewood South               2047\n",
       "Homewood North               1931\n",
       "East Liberty                 1855\n",
       "Marshall-Shadeland           1491\n",
       "Bluff                        1463\n",
       "Mount Washington             1414\n",
       "Name: INCIDENTNEIGHBORHOOD, dtype: int64"
      ]
     },
     "execution_count": 1,
     "metadata": {},
     "output_type": "execute_result"
    }
   ],
   "source": [
    "import pandas as pd\n",
    "arrest = pd.read_csv(\"Arrests.csv\")\n",
    "arrest['INCIDENTNEIGHBORHOOD'].value_counts().sort_values(ascending=False).head(10)\n",
    "#arrest['INCIDENTNEIGHBORHOOD'].unique()\n"
   ]
  },
  {
   "cell_type": "code",
   "execution_count": null,
   "metadata": {},
   "outputs": [],
   "source": []
  }
 ],
 "metadata": {
  "kernelspec": {
   "display_name": "Python 3",
   "language": "python",
   "name": "python3"
  },
  "language_info": {
   "codemirror_mode": {
    "name": "ipython",
    "version": 3
   },
   "file_extension": ".py",
   "mimetype": "text/x-python",
   "name": "python",
   "nbconvert_exporter": "python",
   "pygments_lexer": "ipython3",
   "version": "3.8.3"
  }
 },
 "nbformat": 4,
 "nbformat_minor": 4
}
