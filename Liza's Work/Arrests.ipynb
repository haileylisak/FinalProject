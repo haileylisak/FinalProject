{
 "cells": [
  {
   "cell_type": "code",
   "execution_count": 3,
   "metadata": {},
   "outputs": [],
   "source": [
    "import pandas as pd\n",
    "\n",
    "%matplotlib inline"
   ]
  },
  {
   "cell_type": "code",
   "execution_count": 4,
   "metadata": {},
   "outputs": [
    {
     "data": {
      "text/plain": [
       "Central Business District    4250\n",
       "South Side Flats             3382\n",
       "Carrick                      2300\n",
       "East Allegheny               2155\n",
       "Homewood South               2047\n",
       "Homewood North               1931\n",
       "East Liberty                 1855\n",
       "Marshall-Shadeland           1491\n",
       "Bluff                        1463\n",
       "Mount Washington             1414\n",
       "Name: INCIDENTNEIGHBORHOOD, dtype: int64"
      ]
     },
     "execution_count": 4,
     "metadata": {},
     "output_type": "execute_result"
    }
   ],
   "source": [
    "arrestData = pd.read_csv(\"Arrests.csv\", index_col=\"_id\")\n",
    "top10 = arrestData['INCIDENTNEIGHBORHOOD'].value_counts().sort_values(ascending=False).head(10)\n",
    "top10"
   ]
  },
  {
   "cell_type": "markdown",
   "metadata": {},
   "source": [
    "Displayed here are the top 10 neighborhoods in Pittsburgh that had the most arrests by City of Pittsburgh police officers. We can see that the Central Business District is in the lead, followed by the South Side Flats. Let's narrow it down even more and focus on the top 5 neighborhoods."
   ]
  },
  {
   "cell_type": "code",
   "execution_count": 4,
   "metadata": {},
   "outputs": [
    {
     "data": {
      "text/plain": [
       "Central Business District    4250\n",
       "South Side Flats             3382\n",
       "Carrick                      2300\n",
       "East Allegheny               2155\n",
       "Homewood South               2047\n",
       "Name: INCIDENTNEIGHBORHOOD, dtype: int64"
      ]
     },
     "execution_count": 4,
     "metadata": {},
     "output_type": "execute_result"
    }
   ],
   "source": [
    "top5 = arrestData['INCIDENTNEIGHBORHOOD'].value_counts().sort_values(ascending=False).head(5)\n",
    "top5"
   ]
  },
  {
   "cell_type": "code",
   "execution_count": 5,
   "metadata": {},
   "outputs": [
    {
     "data": {
      "text/plain": [
       "<matplotlib.axes._subplots.AxesSubplot at 0x7f91ceee0c40>"
      ]
     },
     "execution_count": 5,
     "metadata": {},
     "output_type": "execute_result"
    },
    {
     "data": {
      "image/png": "[encoded data removed]",
      "text/plain": [
       "<Figure size 432x288 with 1 Axes>"
      ]
     },
     "metadata": {
      "needs_background": "light"
     },
     "output_type": "display_data"
    }
   ],
   "source": [
    "top5.plot()"
   ]
  },
  {
   "cell_type": "markdown",
   "metadata": {},
   "source": [
    "I put the top 5 neighboords on a plot. The y-axis is the number of arrests, and the x-axis is the neighborhood name. The graph shows how the Central Business District is way in the lead for amount of arrests. It nearly doubles Carrick, East Allegheny, and Homewood South (with are the 3rd-5th ranked with highest arrests). South Side Flats comes in second place, but it still is over 1000 arrests greater than Carrick in the 3rd spot. We can disregard East Allegheny and Homewood South as they are over 1000 arrests less than the top 3.\n",
    "\n",
    "Since the x-axis of this first plot is a little messy, let's narrow it down a little more..."
   ]
  },
  {
   "cell_type": "code",
   "execution_count": 6,
   "metadata": {},
   "outputs": [
    {
     "data": {
      "text/plain": [
       "<matplotlib.axes._subplots.AxesSubplot at 0x7f91cdd32160>"
      ]
     },
     "execution_count": 6,
     "metadata": {},
     "output_type": "execute_result"
    },
    {
     "data": {
      "image/png": "[encoded data removed]",
      "text/plain": [
       "<Figure size 432x288 with 1 Axes>"
      ]
     },
     "metadata": {
      "needs_background": "light"
     },
     "output_type": "display_data"
    }
   ],
   "source": [
    "top5.head(3).plot()"
   ]
  },
  {
   "cell_type": "markdown",
   "metadata": {},
   "source": [
    "This plot shows us the top 3 neighborhoods with the most arrests. It is clear how the Central Business District is in the lead by 1000 compared to the other neighborhoods. Let's take a look at what types of arrests these top 3 neighborhoods are recieving."
   ]
  },
  {
   "cell_type": "code",
   "execution_count": 7,
   "metadata": {},
   "outputs": [
    {
     "name": "stdout",
     "output_type": "stream",
     "text": [
      "3929 Retail Theft. / 3503.B1I DEF. TRESPASS ACTUAL COMMUNICATION\n",
      "3929 Retail Theft. / 3503.B1I DEF. TRESPASS ACTUAL COMMUNICATION\n",
      "901 Criminal Attempt / 2702 Aggravated Assault. / 2705 Recklessy Endangering Another Person. / 6106 Firearms not to be Carried without a License. / 6110.1 Possesion of Firearm by Minor\n",
      "3929(a)(1) Retail Theft; takes possession of, carries away, or transfers displayed merchandise\n",
      "3111 Obedience to Traffic-Control Devices. / 3802(a)(1) DUI - General Impairment\n",
      "9015 Failure To Appear/Arrest on Attachment Order / 9501 Bench Warrant / 13(a)(31) Marijuana: Possession Small Amount\n",
      "2702 Aggravated Assault. / 2706 Terroristic Threats. / 3304(a)(5) CRIMINAL MISCHIEF - Intentionally Damages Real Or Personal Property Of Another\n",
      "3502 Burglary.\n",
      "5505 Public Drunkenness / 13(a)(16) Possession of Controlled Substance / 13(a)(32) Paraphernalia - Use or Possession\n",
      "3921(a) Theft by Unlawful Taking or Disposition - Movable item\n"
     ]
    }
   ],
   "source": [
    "offenseCounter = 0\n",
    "for index, row in arrestData.iterrows():\n",
    "    if row[\"INCIDENTNEIGHBORHOOD\"] == \"Central Business District\":\n",
    "        print(row[\"OFFENSES\"])\n",
    "        offenseCounter = offenseCounter + 1\n",
    "    if offenseCounter == 10:\n",
    "        break"
   ]
  },
  {
   "cell_type": "markdown",
   "metadata": {},
   "source": [
    "Let's analyze what the 10 most recent arrests were in the Central Business District. There was no main trend in the offences as there was a variety of types of arrests. Almost all the arrests had more than one charge. 5 of the offenses were related to theft or robbery. 3 of the offenses put others in direct danger/assault."
   ]
  },
  {
   "cell_type": "code",
   "execution_count": 5,
   "metadata": {},
   "outputs": [
    {
     "name": "stdout",
     "output_type": "stream",
     "text": [
      "6106 Firearms not to be Carried without a License. / 4303 General Lighting Requirements.\n",
      "2701 Simple Assault.\n",
      "3929(a)(1) Retail Theft; takes possession of, carries away, or transfers displayed merchandise\n",
      "9015 Failure To Appear/Arrest on Attachment Order\n",
      "3921(a) Theft by Unlawful Taking or Disposition - Movable item\n",
      "9093 Indirect Criminal Contempt\n",
      "5505 Public Drunkenness / 3503.B1I DEF. TRESPASS ACTUAL COMMUNICATION\n",
      "13(a)(16) Possession of Controlled Substance / 13(a)(32) Paraphernalia - Use or Possession\n",
      "3925 Receiving Stolen Property. / 1543 Driving While Operating Privilege is Suspended or Revoked. / 3714 Careless Driving\n",
      "3921 Theft by Unlawful Taking or Disposition. / 5505 Public Drunkenness / 13(a)(16) Possession of Controlled Substance\n"
     ]
    }
   ],
   "source": [
    "offenseCounter = 0\n",
    "for index, row in arrestData.iterrows():\n",
    "    if row[\"INCIDENTNEIGHBORHOOD\"] == \"South Side Flats\":\n",
    "        print(row[\"OFFENSES\"])\n",
    "        offenseCounter = offenseCounter +1\n",
    "    if offenseCounter==10:\n",
    "        break"
   ]
  },
  {
   "cell_type": "markdown",
   "metadata": {},
   "source": [
    "Now, let's analyze what the 10 most recent arrests were in the South Side Flats. There was no main trend in the offences as there was a variety of types of arrests. Almost all the arrests had more than one charge. 4 of the offenses were related to theft or robbery. 2 of the offenses put others in direct danger/assault. 2 of the offenses included drugs or alcohol."
   ]
  },
  {
   "cell_type": "code",
   "execution_count": 6,
   "metadata": {},
   "outputs": [
    {
     "name": "stdout",
     "output_type": "stream",
     "text": [
      "2701 Simple Assault.\n",
      "2707 Propulsion of Missiles  / 3304(a)(5) CRIMINAL MISCHIEF - Intentionally Damages Real Or Personal Property Of Another\n",
      "3925 Receiving Stolen Property.\n",
      "2701 Simple Assault. / 2705 Recklessy Endangering Another Person. / 3304 Criminal Mischief. / 4304(a)(1) Endangering Welfare of Children.\n",
      "2706 Terroristic Threats. / 2701(a)(1) Simple Assault - Intent., Know., Reckless.Cause Bod. Injury\n",
      "13(a)(16) Possession of Controlled Substance / 13(a)(32) Paraphernalia - Use or Possession\n",
      "9501 Bench Warrant / 4914 False Identification to Law Enforcement Authorities / 3929(a)(1) Retail Theft; takes possession of, carries away, or transfers displayed merchandise\n",
      "2701 Simple Assault.\n",
      "4915 Failure to Comply with Megans Law\n",
      "2709.1 Stalking Conduct or Repeatedly Acts Including Follows / 2709.A3 HARASSMENT - COURSE OF CONDUCT W/NO LEGIT. PURPOSE\n"
     ]
    }
   ],
   "source": [
    "offenseCounter = 0\n",
    "for index, row in arrestData.iterrows():\n",
    "    if row[\"INCIDENTNEIGHBORHOOD\"] == \"Carrick\":\n",
    "        print(row[\"OFFENSES\"])\n",
    "        offenseCounter = offenseCounter +1\n",
    "    if offenseCounter==10:\n",
    "        break"
   ]
  },
  {
   "cell_type": "markdown",
   "metadata": {},
   "source": [
    "Now, let's analyze what the 10 most recent arrests were in Carrick. Once again, there was no main trend in the offences as there was a variety of types of arrests. Almost all the arrests had more than one charge. 4 of the offenses were categoried as simple assault."
   ]
  },
  {
   "cell_type": "markdown",
   "metadata": {},
   "source": [
    "Conclusion: After these observations, I find that the arrest written in the Central Business District are the most dangerous (8/10 fell under theft or assault). South Side Flats came in second place with 6/10 arrests falling under theft or assault. The Central Business District had about 900 more arrests than the South Side Flats, so, based on arrests, I would say that the Central Business District is the best-worst neighborhood to live in in Pittsburgh."
   ]
  }
 ],
 "metadata": {
  "kernelspec": {
   "display_name": "Python 3",
   "language": "python",
   "name": "python3"
  },
  "language_info": {
   "codemirror_mode": {
    "name": "ipython",
    "version": 3
   },
   "file_extension": ".py",
   "mimetype": "text/x-python",
   "name": "python",
   "nbconvert_exporter": "python",
   "pygments_lexer": "ipython3",
   "version": "3.8.3"
  }
 },
 "nbformat": 4,
 "nbformat_minor": 4
}
