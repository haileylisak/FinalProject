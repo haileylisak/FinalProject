{
 "cells": [
  {
   "cell_type": "code",
   "execution_count": 5,
   "metadata": {},
   "outputs": [],
   "source": [
    "import pandas as pd\n",
    "\n",
    "%matplotlib inline"
   ]
  },
  {
   "cell_type": "code",
   "execution_count": 6,
   "metadata": {},
   "outputs": [
    {
     "data": {
      "text/plain": [
       "South Side Flats             3397\n",
       "Central Business District    1995\n",
       "Central Oakland               659\n",
       "North Shore                   576\n",
       "Carrick                       441\n",
       "East Allegheny                355\n",
       "Mount Washington              327\n",
       "Brookline                     310\n",
       "Shadyside                     297\n",
       "Hazelwood                     277\n",
       "Name: NEIGHBORHOOD, dtype: int64"
      ]
     },
     "execution_count": 6,
     "metadata": {},
     "output_type": "execute_result"
    }
   ],
   "source": [
    "citationData = pd.read_csv(\"non-traffic-citation-data.csv\", index_col=\"_id\")\n",
    "citationData['NEIGHBORHOOD'].value_counts().sort_values(ascending=False).head(10)"
   ]
  },
  {
   "cell_type": "markdown",
   "metadata": {},
   "source": [
    "Displayed here are the top 10 neighborhoods in Pittsburgh that aquired the most citations that were not related to traffic. We can see that the South Side Flats is in the lead by a decent bit.\n",
    "Let's narrow it down even more and focus on the top 5 neighborhoods."
   ]
  },
  {
   "cell_type": "code",
   "execution_count": 7,
   "metadata": {},
   "outputs": [
    {
     "data": {
      "text/plain": [
       "South Side Flats             3397\n",
       "Central Business District    1995\n",
       "Central Oakland               659\n",
       "North Shore                   576\n",
       "Carrick                       441\n",
       "Name: NEIGHBORHOOD, dtype: int64"
      ]
     },
     "execution_count": 7,
     "metadata": {},
     "output_type": "execute_result"
    }
   ],
   "source": [
    "top5 = citationData['NEIGHBORHOOD'].value_counts().sort_values(ascending=False).head(5)\n",
    "top5"
   ]
  },
  {
   "cell_type": "code",
   "execution_count": 36,
   "metadata": {},
   "outputs": [
    {
     "data": {
      "text/plain": [
       "<matplotlib.axes._subplots.AxesSubplot at 0x7f36decdf850>"
      ]
     },
     "execution_count": 36,
     "metadata": {},
     "output_type": "execute_result"
    },
    {
     "data": {
      "image/png": "[encoded data removed]",
      "text/plain": [
       "<Figure size 432x288 with 1 Axes>"
      ]
     },
     "metadata": {
      "needs_background": "light"
     },
     "output_type": "display_data"
    }
   ],
   "source": [
    "top5.plot()"
   ]
  },
  {
   "cell_type": "markdown",
   "metadata": {},
   "source": [
    "I put the top 5 neighboords on a plot. The y-axis is the number of non-traffic citations. The x-axis is the neighborhood name. This demonstrates the dramatic decrease in the number of citations after South Side Flats and Central Business District are plotted. So, even Central Oakland, North Shore, and Carrick are in the top 5, it does not mean that those neighborhoods recieve nearly as many non-traffic citations as the top two."
   ]
  },
  {
   "cell_type": "markdown",
   "metadata": {},
   "source": [
    "Since the x-axis of this first plot is a little messy, let's narrow it down a little more..."
   ]
  },
  {
   "cell_type": "code",
   "execution_count": 37,
   "metadata": {},
   "outputs": [
    {
     "data": {
      "text/plain": [
       "<matplotlib.axes._subplots.AxesSubplot at 0x7f36debfab80>"
      ]
     },
     "execution_count": 37,
     "metadata": {},
     "output_type": "execute_result"
    },
    {
     "data": {
      "image/png": "[encoded data removed]",
      "text/plain": [
       "<Figure size 432x288 with 1 Axes>"
      ]
     },
     "metadata": {
      "needs_background": "light"
     },
     "output_type": "display_data"
    }
   ],
   "source": [
    "top5.head(3).plot()\n"
   ]
  },
  {
   "cell_type": "markdown",
   "metadata": {},
   "source": [
    "This plot shows us the top 3 neighborhoods with the most non-traffic citations. It is even more clear how the South Side Flats are in the lead by thousands compared to the other neighborhoods. Let's take a look at what types of citations these top 3 neighborhoods are recieving."
   ]
  },
  {
   "cell_type": "code",
   "execution_count": 38,
   "metadata": {},
   "outputs": [
    {
     "name": "stdout",
     "output_type": "stream",
     "text": [
      "3304(a)(5) CRIMINAL MISCHIEF - Intentionally Damages Real Or Personal Property Of Another\n",
      "5505 Public Drunkenness\n",
      "601.16(b)(1)(a) Any Person who urinates or defecates in, on, or about any public place\n",
      "5503(a)(4) DISORDERLY CONDUCT - HAZARDOUS/PHYS. OFF\n",
      "5505 Public Drunkenness\n",
      "601.16(b)(1)(a) Any Person who urinates or defecates in, on, or about any public place\n",
      "5505 Public Drunkenness\n",
      "601.08 (a) Open Container Law\n",
      "5503(a)(1) DISORDERLY CONDUCT - ENGAGE IN FIGHTING\n",
      "601.16(b)(1)(a) Any Person who urinates or defecates in, on, or about any public place\n"
     ]
    }
   ],
   "source": [
    "#for row in citationData[\"NEIGHBORHOOD\"]:\n",
    "    #print(row)\n",
    "    #if row == \"South Side Flats\":\n",
    "        #citationData\n",
    "        #break\n",
    "offenseCounter = 0\n",
    "for index, row in citationData.iterrows():\n",
    "    if row[\"NEIGHBORHOOD\"] == \"South Side Flats\":\n",
    "        print(row[\"OFFENSES\"])\n",
    "        offenseCounter = offenseCounter +1\n",
    "    if offenseCounter==10:\n",
    "        break"
   ]
  },
  {
   "cell_type": "markdown",
   "metadata": {},
   "source": [
    "Let's analyze the 10 most recent non-traffic citations written in the South Side Flats are. The most recurring offenses I see are related to being under the influence of alcohol and using the restroom publically (not in a bathroom)."
   ]
  },
  {
   "cell_type": "code",
   "execution_count": 39,
   "metadata": {},
   "outputs": [
    {
     "name": "stdout",
     "output_type": "stream",
     "text": [
      "3929(a)(1) Retail Theft; takes possession of, carries away, or transfers displayed merchandise\n",
      "601.08(a) Alcohol or Liquor Consumption on Streets or Sidewalks\n",
      "5511(c)(1) CRUELTY TO ANIMALS\n",
      "5505 Public Drunkenness\n",
      "5505 Public Drunkenness\n",
      "5507(a) Obstructing highway, railroad or public passage\n",
      "5507(a) Obstructing highway, railroad or public passage\n",
      "5507(a) Obstructing highway, railroad or public passage\n",
      "2709(a)(1) Harassment by Physical Contact, or Attempts or Threats\n",
      "602.04(b)(2) Aggressive Panhandling\n"
     ]
    }
   ],
   "source": [
    "offenseCounter = 0\n",
    "for index, row in citationData.iterrows():\n",
    "    if row[\"NEIGHBORHOOD\"] == \"Central Business District\":\n",
    "        print(row[\"OFFENSES\"])\n",
    "        offenseCounter = offenseCounter +1\n",
    "    if offenseCounter==10:\n",
    "        break"
   ]
  },
  {
   "cell_type": "markdown",
   "metadata": {},
   "source": [
    "Now, let's analyze the most recent 10 citations recieved in the Central Business District. It seems that the offense standing out the most is obstructing highways, railroads, or public passages."
   ]
  },
  {
   "cell_type": "code",
   "execution_count": 40,
   "metadata": {},
   "outputs": [
    {
     "name": "stdout",
     "output_type": "stream",
     "text": [
      "6308(a) Underage Purchase, Consume, Possessed or Transport Liquor\n",
      "6308(a) Underage Purchase, Consume, Possessed or Transport Liquor\n",
      "6308(a) Underage Purchase, Consume, Possessed or Transport Liquor\n",
      "601.16(b)(1)(a) Any Person who urinates or defecates in, on, or about any public place\n",
      "601.04 (c) (1) Residential 0700-2200  >65dB(A) 2200-0700 >60dB(A)\n",
      "6501(a)(1) Scattering Rubbish; Any waste, dangerous or detrimental substance upon public property or waters\n",
      "5503(a)(4) DISORDERLY CONDUCT - HAZARDOUS/PHYS. OFF\n",
      "601.04 (c) (2) Loudspeakers, etc 0700-2200 >75dB(c) 2200-0700 >75 dB(c)\n",
      "601.04 (c) (2) Loudspeakers, etc 0700-2200 >75dB(c) 2200-0700 >75 dB(c)\n",
      "601.04 (c) (2) Loudspeakers, etc 0700-2200 >75dB(c) 2200-0700 >75 dB(c)\n"
     ]
    }
   ],
   "source": [
    "offenseCounter = 0\n",
    "for index, row in citationData.iterrows():\n",
    "    if row[\"NEIGHBORHOOD\"] == \"Central Oakland\":\n",
    "        print(row[\"OFFENSES\"])\n",
    "        offenseCounter = offenseCounter +1\n",
    "    if offenseCounter==10:\n",
    "        break"
   ]
  },
  {
   "cell_type": "markdown",
   "metadata": {},
   "source": [
    "In Central Oakland, it looks like the most common issue is purchasing alcohol underage and noise complaints."
   ]
  },
  {
   "cell_type": "markdown",
   "metadata": {},
   "source": [
    "After these observations, I find the citations written within the South Side Flats are the most disturbing (urinating in public and public drunkeness). Considering there is a difference of about 1,400 citations between the first and second neighborhood, I can't imagine what other offenses are being written up. With all of this in mind, I would say that, based off of non-traffic citations, the South Side Flats is the best-worst neighborhood to live in in Pittsburgh."
   ]
  },
  {
   "cell_type": "code",
   "execution_count": null,
   "metadata": {},
   "outputs": [],
   "source": []
  }
 ],
 "metadata": {
  "kernelspec": {
   "display_name": "Python 3",
   "language": "python",
   "name": "python3"
  },
  "language_info": {
   "codemirror_mode": {
    "name": "ipython",
    "version": 3
   },
   "file_extension": ".py",
   "mimetype": "text/x-python",
   "name": "python",
   "nbconvert_exporter": "python",
   "pygments_lexer": "ipython3",
   "version": "3.8.3"
  }
 },
 "nbformat": 4,
 "nbformat_minor": 4
}
